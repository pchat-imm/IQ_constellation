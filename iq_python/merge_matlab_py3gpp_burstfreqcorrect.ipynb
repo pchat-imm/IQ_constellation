{
 "cells": [
  {
   "cell_type": "code",
   "execution_count": 1,
   "metadata": {},
   "outputs": [],
   "source": [
    "import numpy as np\n",
    "import scipy\n",
    "import matplotlib.pyplot as plt \n",
    "from py3gpp import *\n",
    "import csv"
   ]
  },
  {
   "cell_type": "code",
   "execution_count": 2,
   "metadata": {},
   "outputs": [],
   "source": [
    "## IQ Input files\n",
    "\n",
    "input_file = '/home/tiwat/workarea/IQ_constellation/iq_python/input/IQDataFile_SPEEDTEST_10MS.csv' # PSS NID2=1\n",
    "# input_file = '/home/tiwat/workarea/IQ_constellation/iq_python/input/IQDataFile_SPEEDTEST.csv'\n",
    "# input_file = '/home/chatchamon/workarea/IQ_constellation/iq_python/input/IQDataFile_SPOTIFY.csv'  # PSS NID2=1\n",
    "# input_file = '/home/chatchamon/workarea/IQ_constellation/iq_python/input/IQDataFile_SPOTIFY2.csv'"
   ]
  },
  {
   "cell_type": "code",
   "execution_count": 3,
   "metadata": {},
   "outputs": [
    {
     "name": "stdout",
     "output_type": "stream",
     "text": [
      "len(waveform) 230401\n"
     ]
    }
   ],
   "source": [
    "## read csv input file\n",
    "with open(input_file, 'r') as f:\n",
    "\treader = csv.reader(f)\n",
    "\n",
    "\tfor _ in range(19):\t\t\t# skip header\n",
    "\t\tnext(reader)\n",
    "\t\n",
    "\tiq_val = []\n",
    "\tfor row in reader:\n",
    "\t\ti_val = float(row[0])\n",
    "\t\tq_val = float(row[1])\n",
    "\t\tiq_val.append(complex(i_val, q_val))\t\t# I+jQ\n",
    "\t\n",
    "\twaveform = np.array(iq_val[:230401])\t\t\t# 10 ms\n",
    "\t# waveform = np.array(iq_val)\t\t\t\n",
    "\n",
    "print(\"len(waveform)\", len(waveform))"
   ]
  },
  {
   "cell_type": "code",
   "execution_count": 4,
   "metadata": {},
   "outputs": [],
   "source": [
    "delta_f = 0\t\t\t\t# frequency offset\n",
    "mu = 1\t\t\t\t\t# for SCS\n",
    "f = 1\t\t\t\t\t# signal modulation"
   ]
  },
  {
   "cell_type": "code",
   "execution_count": 38,
   "metadata": {},
   "outputs": [],
   "source": [
    "# scs = 30        # not sure\n",
    "# syncNfft = 256 # minimum FFT size to cover SS burst\n",
    "# syncSR = syncNfft * scs * 1e3     # move down, after get Nfft\n",
    "nrbSSB = 20\n",
    "\n",
    "dec_factor = 8\t\t\t# decimated factor, to downsample\n",
    "waveform = scipy.signal.decimate(waveform, dec_factor, ftype='fir') \n",
    "waveform /= max(waveform.real.max(), waveform.imag.max()) # scale max amplitude to 1\n",
    "fs = 23.04e6 // dec_factor\t\t# sampling rate 23.04 MHz, to 2.88 MSPS"
   ]
  },
  {
   "cell_type": "code",
   "execution_count": 39,
   "metadata": {},
   "outputs": [
    {
     "name": "stdout",
     "output_type": "stream",
     "text": [
      "SNR = 3.8032259979415137 dB\n",
      "len(waveform): 57\n"
     ]
    }
   ],
   "source": [
    "waveform =  waveform * np.exp(-1j*2*np.pi*delta_f/fs*(np.arange(len(waveform))))\n",
    "np.random.seed(69) # to get reproducible noise\n",
    "noise = ((np.random.rand(waveform.shape[0]) - 0.5) + 1j*(np.random.rand(waveform.shape[0]) - 0.5))*0.8\n",
    "SNR = 10*np.log10((np.linalg.norm(waveform) / np.linalg.norm(noise)))\n",
    "waveform += noise\n",
    "print(f'SNR = {SNR} dB')\n",
    "# print(\"waveform w/ noise:\",waveform)\n",
    "print(\"len(waveform):\", len(waveform))"
   ]
  },
  {
   "cell_type": "code",
   "execution_count": 40,
   "metadata": {},
   "outputs": [],
   "source": [
    "carrier = nrCarrierConfig(NSizeGrid = 20, SubcarrierSpacing = 15 * 2**mu)\n",
    "info = nrOFDMInfo(carrier)\n",
    "Nfft = info['Nfft']     # Nfft = 512 for scs 30 kHz"
   ]
  },
  {
   "cell_type": "code",
   "execution_count": 41,
   "metadata": {},
   "outputs": [
    {
     "name": "stdout",
     "output_type": "stream",
     "text": [
      "fshifts [-45000. -30000. -15000.      0.  15000.  30000.  45000.]\n"
     ]
    }
   ],
   "source": [
    "pssIndices = np.arange((119-63), (119+64))      # same with nrPSSIndices()\n",
    "# refGrid = np.zeros((nrbSSB*12, 2))\n",
    "# print(pssIndices.shape, refGrid.shape)\n",
    " \n",
    "## Frequency offset and PSS search\n",
    "searchBW = 30*3       # don't know why\n",
    "fshifts = np.linspace(-searchBW, searchBW, num=7) * 1e3 /2  # Half subcarrier step\n",
    "print(\"fshifts\", fshifts)"
   ]
  },
  {
   "cell_type": "code",
   "execution_count": 42,
   "metadata": {},
   "outputs": [],
   "source": [
    "scsSSB = 15 * 2**(mu)\n",
    "nSlot = 0\n",
    "rxSampleRate = fs"
   ]
  },
  {
   "cell_type": "code",
   "execution_count": 43,
   "metadata": {},
   "outputs": [],
   "source": [
    "# peak_value = np.zeros((fshifts.size, 3))\n",
    "# peak_index = np.zeros((fshifts.size, 3))\n",
    "# t = (np.arange(len(waveform)) / fs).reshape(-1, 1)\n",
    "t = (np.arange(len(waveform)) / fs).reshape(-1)"
   ]
  },
  {
   "cell_type": "code",
   "execution_count": 11,
   "metadata": {},
   "outputs": [
    {
     "name": "stdout",
     "output_type": "stream",
     "text": [
      "waveform.shape: (28801,), t.shape: (28801, 1)\n"
     ]
    }
   ],
   "source": [
    "print(f\"waveform.shape: {waveform.shape}, t.shape: {t.shape}\")"
   ]
  },
  {
   "cell_type": "code",
   "execution_count": 44,
   "metadata": {},
   "outputs": [
    {
     "ename": "TypeError",
     "evalue": "unsupported operand type(s) for //: 'numpy.complex128' and 'int'",
     "output_type": "error",
     "traceback": [
      "\u001b[0;31m---------------------------------------------------------------------------\u001b[0m",
      "\u001b[0;31mTypeError\u001b[0m                                 Traceback (most recent call last)",
      "Cell \u001b[0;32mIn[44], line 20\u001b[0m\n\u001b[1;32m     17\u001b[0m refGrid[pssIndices] \u001b[38;5;241m=\u001b[39m nrPSS(NID2)\n\u001b[1;32m     18\u001b[0m nSlot \u001b[38;5;241m=\u001b[39m \u001b[38;5;241m0\u001b[39m\n\u001b[0;32m---> 20\u001b[0m [refWaveform, info] \u001b[38;5;241m=\u001b[39m \u001b[43mnrOFDMModulate\u001b[49m\u001b[43m(\u001b[49m\u001b[43mcarrier\u001b[49m\u001b[43m,\u001b[49m\u001b[43m \u001b[49m\u001b[43mrefGrid\u001b[49m\u001b[43m,\u001b[49m\u001b[43m \u001b[49m\u001b[43mSampleRate\u001b[49m\u001b[43m \u001b[49m\u001b[38;5;241;43m=\u001b[39;49m\u001b[43m \u001b[49m\u001b[43mfs\u001b[49m\u001b[43m)\u001b[49m\n\u001b[1;32m     21\u001b[0m refWaveform \u001b[38;5;241m=\u001b[39m refWaveform[info[\u001b[38;5;124m'\u001b[39m\u001b[38;5;124mCyclicPrefixLengths\u001b[39m\u001b[38;5;124m'\u001b[39m][\u001b[38;5;241m0\u001b[39m]:]; \u001b[38;5;66;03m# remove CP\u001b[39;00m\n\u001b[1;32m     23\u001b[0m timingOffset \u001b[38;5;241m=\u001b[39m nrTimingEstimate(waveform \u001b[38;5;241m=\u001b[39m rxWaveformFreqShift, nrb \u001b[38;5;241m=\u001b[39m nrbSSB, scs \u001b[38;5;241m=\u001b[39m scsSSB, initialNSlot \u001b[38;5;241m=\u001b[39m nSlot, refGrid \u001b[38;5;241m=\u001b[39m refWaveform, SampleRate \u001b[38;5;241m=\u001b[39m rxSampleRate)\n",
      "File \u001b[0;32m~/workarea/IQ_constellation/iq_python/my_venv/lib/python3.12/site-packages/py3gpp/nrOFDMModulate.py:36\u001b[0m, in \u001b[0;36mnrOFDMModulate\u001b[0;34m(carrier, grid, scs, initialNSlot, CyclicPrefix, Nfft, SampleRate, Windowing, CarrierFrequency)\u001b[0m\n\u001b[1;32m     34\u001b[0m         SampleRate \u001b[38;5;241m=\u001b[39m \u001b[38;5;28mint\u001b[39m(Nfft \u001b[38;5;241m*\u001b[39m scs \u001b[38;5;241m*\u001b[39m \u001b[38;5;241m1000\u001b[39m)\n\u001b[1;32m     35\u001b[0m     \u001b[38;5;28;01melse\u001b[39;00m:\n\u001b[0;32m---> 36\u001b[0m         Nfft \u001b[38;5;241m=\u001b[39m \u001b[38;5;28mint\u001b[39m(\u001b[43mSampleRate\u001b[49m\u001b[43m \u001b[49m\u001b[38;5;241;43m/\u001b[39;49m\u001b[38;5;241;43m/\u001b[39;49m\u001b[43m \u001b[49m\u001b[43mscs\u001b[49m \u001b[38;5;241m/\u001b[39m\u001b[38;5;241m/\u001b[39m \u001b[38;5;241m1000\u001b[39m)\n\u001b[1;32m     38\u001b[0m mu \u001b[38;5;241m=\u001b[39m (scs \u001b[38;5;241m/\u001b[39m\u001b[38;5;241m/\u001b[39m \u001b[38;5;241m15\u001b[39m) \u001b[38;5;241m-\u001b[39m \u001b[38;5;241m1\u001b[39m\n\u001b[1;32m     40\u001b[0m info[\u001b[38;5;124m\"\u001b[39m\u001b[38;5;124mNfft\u001b[39m\u001b[38;5;124m\"\u001b[39m] \u001b[38;5;241m=\u001b[39m Nfft\n",
      "\u001b[0;31mTypeError\u001b[0m: unsupported operand type(s) for //: 'numpy.complex128' and 'int'"
     ]
    }
   ],
   "source": [
    "index = np.zeros(3, 'int')\n",
    "value = np.zeros(3)\n",
    "peak_fIdx = np.zeros([len(fshifts), 3, ])\n",
    "\n",
    "\n",
    "fIdx = 0\n",
    "# for fIdx in np.arange(len(fshifts)):\n",
    "coarseFrequencyOffset = fshifts[fIdx]\n",
    "rxWaveformFreqShift = waveform * np.exp(-1j*2*np.pi*coarseFrequencyOffset*t)\n",
    "\n",
    "\n",
    "# fig, axs = plt.subplots(3, 1, facecolor='w', sharex=True, sharey=True)\n",
    "NID2 = 1\n",
    "# for NID2 in np.arange(3, dtype='int'):\n",
    "\n",
    "refGrid = np.zeros((nrbSSB*12))\n",
    "refGrid[pssIndices] = nrPSS(NID2)\n",
    "nSlot = 0\n",
    "\n",
    "[refWaveform, info] = nrOFDMModulate(carrier, refGrid, SampleRate = fs)\n",
    "refWaveform = refWaveform[info['CyclicPrefixLengths'][0]:]; # remove CP\n",
    "\n",
    "timingOffset = nrTimingEstimate(waveform = rxWaveformFreqShift, nrb = nrbSSB, scs = scsSSB, initialNSlot = nSlot, refGrid = refWaveform, SampleRate = rxSampleRate)\n",
    "print(\"rxWaveformFreqShift.shape\", rxWaveformFreqShift.shape, \"NID2\",NID2, f\"timingOffset\", timingOffset)\n",
    "\n",
    "temp = scipy.signal.correlate(rxWaveformFreqShift[timingOffset:], refGrid,'valid')  # correlate over 25 ms\n",
    "# print(f\"temp.shape\",temp.shape)\n",
    "print(\"temp.shape\", temp.shape)\n",
    "\n",
    "index[NID2]  = np.argmax(np.abs(temp))\n",
    "value[NID2] = np.abs(temp[index[NID2]])\n",
    "t_corr = np.arange(temp.shape[0])/fs*1e3\n",
    "axs[NID2].plot(t_corr, np.abs(temp))\n",
    "\n"
   ]
  },
  {
   "cell_type": "code",
   "execution_count": 24,
   "metadata": {},
   "outputs": [
    {
     "data": {
      "text/plain": [
       "2880000.0"
      ]
     },
     "execution_count": 24,
     "metadata": {},
     "output_type": "execute_result"
    }
   ],
   "source": [
    "fs"
   ]
  },
  {
   "cell_type": "code",
   "execution_count": 173,
   "metadata": {},
   "outputs": [
    {
     "ename": "IndentationError",
     "evalue": "unexpected indent (1514073515.py, line 11)",
     "output_type": "error",
     "traceback": [
      "\u001b[0;36m  Cell \u001b[0;32mIn[173], line 11\u001b[0;36m\u001b[0m\n\u001b[0;31m    fig, axs = plt.subplots(3, 1, facecolor='w', sharex=True, sharey=True)\u001b[0m\n\u001b[0m    ^\u001b[0m\n\u001b[0;31mIndentationError\u001b[0m\u001b[0;31m:\u001b[0m unexpected indent\n"
     ]
    }
   ],
   "source": [
    "index = np.zeros(3, 'int')\n",
    "value = np.zeros(3)\n",
    "peak_fIdx = np.zeros([len(fshifts), 3, ])\n",
    "\n",
    "\n",
    "# fIdx = 0\n",
    "# for fIdx in np.arange(len(fshifts)):\n",
    "    # coarseFrequencyOffset = fshifts[fIdx]\n",
    "    # rxWaveformFreqCorrected = waveform * np.exp(-1j*2*np.pi*coarseFrequencyOffset*t)\n",
    "\n",
    "    fig, axs = plt.subplots(3, 1, facecolor='w', sharex=True, sharey=True)\n",
    "    for NID2 in np.arange(3, dtype='int'):\n",
    "        refGrid = nrResourceGrid(carrier)\n",
    "        refGrid = refGrid[:, 0]\n",
    "        refGrid[pssIndices] = nrPSS(NID2)\n",
    "        nSlot = 0\n",
    "\n",
    "        # [refWaveform, info] = nrOFDMModulate(carrier, refGrid, SampleRate = fs)\n",
    "        # refWaveform = refWaveform[info['CyclicPrefixLengths'][0]:]; # remove CP\n",
    "\n",
    "        timingOffset = nrTimingEstimate(waveform = rxWaveformFreqShift, nrb = nrbSSB, scs = scsSSB, initialNSlot = nSlot, refGrid = refGrid, SampleRate = rxSampleRate)\n",
    "        # print(f\"timingOffset\", timingOffset)\n",
    "\n",
    "        temp = scipy.signal.correlate(rxWaveformFreqShift[timingOffset:int(25e-3 * fs)], refGrid,'valid')  # correlate over 25 ms\n",
    "        # print(f\"temp.shape\",temp.shape)\n",
    "\n",
    "        index[NID2]  = np.argmax(np.abs(temp))\n",
    "        value[NID2] = np.abs(temp[index[NID2]])\n",
    "        t_corr = np.arange(temp.shape[0])/fs*1e3\n",
    "        axs[NID2].plot(t_corr, np.abs(temp))\n",
    "    peak_value = np.max(np.abs(temp))\n",
    "    peak_index = index[np.argmax(value)]\n",
    "    select_NID2 = np.argmax(value)\n",
    "    # print(\"value\", value, \"index\", index)\n",
    "    # print(\"peak_value\", peak_value, \"select_NID2\", select_NID2, \"peak_index\", peak_index)\n",
    "# peak_fIdx = [fIdx, select_NID2, peak_index, peak_value]\n",
    "\n"
   ]
  },
  {
   "cell_type": "code",
   "execution_count": 47,
   "metadata": {},
   "outputs": [
    {
     "ename": "ValueError",
     "evalue": "all the input array dimensions except for the concatenation axis must match exactly, but along dimension 0, the array at index 0 has size 240 and the array at index 1 has size 72",
     "output_type": "error",
     "traceback": [
      "\u001b[0;31m---------------------------------------------------------------------------\u001b[0m",
      "\u001b[0;31mValueError\u001b[0m                                Traceback (most recent call last)",
      "Cell \u001b[0;32mIn[47], line 16\u001b[0m\n\u001b[1;32m     12\u001b[0m nslot \u001b[38;5;241m=\u001b[39m \u001b[38;5;241m0\u001b[39m\n\u001b[1;32m     14\u001b[0m timingOffset \u001b[38;5;241m=\u001b[39m nrTimingEstimate(waveform \u001b[38;5;241m=\u001b[39m rxWaveformFreqCorrected, nrb \u001b[38;5;241m=\u001b[39m nrbSSB, scs \u001b[38;5;241m=\u001b[39m scsSSB, initialNSlot \u001b[38;5;241m=\u001b[39m nSlot, refGrid \u001b[38;5;241m=\u001b[39m refGrid, SampleRate \u001b[38;5;241m=\u001b[39m rxSampleRate)\n\u001b[0;32m---> 16\u001b[0m rxGrid \u001b[38;5;241m=\u001b[39m \u001b[43mnrOFDMDemodulate\u001b[49m\u001b[43m(\u001b[49m\u001b[43mwaveform\u001b[49m\u001b[43m \u001b[49m\u001b[38;5;241;43m=\u001b[39;49m\u001b[43m \u001b[49m\u001b[43mrxWaveformFreqCorrected\u001b[49m\u001b[43m[\u001b[49m\u001b[43mtimingOffset\u001b[49m\u001b[43m:\u001b[49m\u001b[43m]\u001b[49m\u001b[43m[\u001b[49m\u001b[43m:\u001b[49m\u001b[43mnp\u001b[49m\u001b[38;5;241;43m.\u001b[39;49m\u001b[43mmin\u001b[49m\u001b[43m(\u001b[49m\u001b[43m(\u001b[49m\u001b[38;5;28;43mlen\u001b[39;49m\u001b[43m(\u001b[49m\u001b[43mwaveform\u001b[49m\u001b[43m)\u001b[49m\u001b[43m,\u001b[49m\u001b[43m \u001b[49m\u001b[43m(\u001b[49m\u001b[38;5;241;43m2048\u001b[39;49m\u001b[38;5;241;43m*\u001b[39;49m\u001b[38;5;241;43m8\u001b[39;49m\u001b[43m)\u001b[49m\u001b[38;5;241;43m/\u001b[39;49m\u001b[38;5;241;43m/\u001b[39;49m\u001b[43mdec_factor\u001b[49m\u001b[43m)\u001b[49m\u001b[43m)\u001b[49m\u001b[43m]\u001b[49m\u001b[43m,\u001b[49m\u001b[43m \u001b[49m\u001b[43mnrb\u001b[49m\u001b[43m \u001b[49m\u001b[38;5;241;43m=\u001b[39;49m\u001b[43m \u001b[49m\u001b[43mnrbSSB\u001b[49m\u001b[43m,\u001b[49m\u001b[43m \u001b[49m\u001b[43mscs\u001b[49m\u001b[43m \u001b[49m\u001b[38;5;241;43m=\u001b[39;49m\u001b[43m \u001b[49m\u001b[43mscsSSB\u001b[49m\u001b[43m,\u001b[49m\u001b[43m \u001b[49m\u001b[43minitialNSlot\u001b[49m\u001b[43m \u001b[49m\u001b[38;5;241;43m=\u001b[39;49m\u001b[43m \u001b[49m\u001b[43mnSlot\u001b[49m\u001b[43m,\u001b[49m\u001b[43m \u001b[49m\u001b[43mSampleRate\u001b[49m\u001b[38;5;241;43m=\u001b[39;49m\u001b[43mrxSampleRate\u001b[49m\u001b[43m,\u001b[49m\u001b[43m \u001b[49m\u001b[43mCyclicPrefixFraction\u001b[49m\u001b[38;5;241;43m=\u001b[39;49m\u001b[38;5;241;43m0.5\u001b[39;49m\u001b[43m)\u001b[49m\n\u001b[1;32m     18\u001b[0m \u001b[38;5;66;03m# # correlate rxGrid with refGrid, as py3gpp_nrTimingEstimate not directly give correlation\u001b[39;00m\n\u001b[1;32m     19\u001b[0m \u001b[38;5;66;03m# temp = scipy.signal.correlate(rxGrid[:int(25e-3 * fs)], refGrid, 'valid')  # correlate over 25 ms\u001b[39;00m\n\u001b[1;32m     20\u001b[0m \n\u001b[1;32m     21\u001b[0m \u001b[38;5;66;03m# peak_index[NID2] = np.argmax(np.abs(temp))\u001b[39;00m\n\u001b[1;32m     22\u001b[0m \u001b[38;5;66;03m# peak_value[NID2] = np.abs(temp[peak_index[NID2]])\u001b[39;00m\n\u001b[1;32m     23\u001b[0m \u001b[38;5;66;03m# t_corr = np.arange(temp.shape[0])/fs*1e3\u001b[39;00m\n",
      "File \u001b[0;32m~/workarea/IQ_constellation/iq_python/my_venv/lib/python3.12/site-packages/py3gpp/nrOFDMDemodulate.py:83\u001b[0m, in \u001b[0;36mnrOFDMDemodulate\u001b[0;34m(carrier, waveform, nrb, scs, initialNSlot, CyclicPrefix, Nfft, SampleRate, CarrierFrequency, CyclicPrefixFraction)\u001b[0m\n\u001b[1;32m     80\u001b[0m symbol_f \u001b[38;5;241m*\u001b[39m\u001b[38;5;241m=\u001b[39m np\u001b[38;5;241m.\u001b[39mexp(\u001b[38;5;241m1\u001b[39mj \u001b[38;5;241m*\u001b[39m \u001b[38;5;241m2\u001b[39m \u001b[38;5;241m*\u001b[39m np\u001b[38;5;241m.\u001b[39mpi \u001b[38;5;241m*\u001b[39m CarrierFrequency \u001b[38;5;241m/\u001b[39m SampleRate \u001b[38;5;241m*\u001b[39m sample_pos_in_slot)\n\u001b[1;32m     81\u001b[0m sample_pos_in_slot \u001b[38;5;241m+\u001b[39m\u001b[38;5;241m=\u001b[39m Nfft\n\u001b[0;32m---> 83\u001b[0m grid \u001b[38;5;241m=\u001b[39m \u001b[43mnp\u001b[49m\u001b[38;5;241;43m.\u001b[39;49m\u001b[43mconcatenate\u001b[49m\u001b[43m(\u001b[49m\u001b[43m(\u001b[49m\u001b[43mgrid\u001b[49m\u001b[43m,\u001b[49m\u001b[43m \u001b[49m\u001b[43mnp\u001b[49m\u001b[38;5;241;43m.\u001b[39;49m\u001b[43mexpand_dims\u001b[49m\u001b[43m(\u001b[49m\u001b[43msymbol_f\u001b[49m\u001b[43m,\u001b[49m\u001b[43m \u001b[49m\u001b[38;5;241;43m1\u001b[39;49m\u001b[43m)\u001b[49m\u001b[43m)\u001b[49m\u001b[43m,\u001b[49m\u001b[43m \u001b[49m\u001b[43maxis\u001b[49m\u001b[38;5;241;43m=\u001b[39;49m\u001b[38;5;241;43m1\u001b[39;49m\u001b[43m)\u001b[49m\n\u001b[1;32m     84\u001b[0m idx \u001b[38;5;241m+\u001b[39m\u001b[38;5;241m=\u001b[39m Nfft \u001b[38;5;241m+\u001b[39m (N_cp[sym_pos_in_slot] \u001b[38;5;241m-\u001b[39m cp_advance)\n\u001b[1;32m     85\u001b[0m \u001b[38;5;66;03m# print(f'slot {slot}, cp_len {N_cp}')\u001b[39;00m\n",
      "\u001b[0;31mValueError\u001b[0m: all the input array dimensions except for the concatenation axis must match exactly, but along dimension 0, the array at index 0 has size 240 and the array at index 1 has size 72"
     ]
    }
   ],
   "source": [
    "\n",
    "for fIdx in np.arange(len(fshifts)):\n",
    "    coarseFrequencyOffset = fshifts[fIdx]\n",
    "    rxWaveformFreqCorrected = waveform * np.exp(-1j*2*np.pi*coarseFrequencyOffset*t)\n",
    "    # rxWaveformDS = scipy.signal.resample(rxWaveformFreqCorrected, syncSR, rxSampleRate) # no downsample, syncSR = rxSampleRate = fs\n",
    "\n",
    "    # fig, axs = plt.subplots(3, 1, facecolor='w', sharex=True, sharey=True)    # for plotting\n",
    "\n",
    "    for NID2 in [0,1,2]:\n",
    "        refGrid = nrResourceGrid(carrier)\n",
    "        refGrid = refGrid[:, 0]\n",
    "        refGrid[pssIndices] = nrPSS(NID2)\n",
    "        nslot = 0\n",
    "\n",
    "        timingOffset = nrTimingEstimate(waveform = rxWaveformFreqCorrected, nrb = nrbSSB, scs = scsSSB, initialNSlot = nSlot, refGrid = refGrid, SampleRate = rxSampleRate)\n",
    "\n",
    "        # rxGrid = nrOFDMDemodulate(waveform = rxWaveformFreqCorrected[timingOffset:][:np.min((len(waveform), (2048*8)//dec_factor))], nrb = nrbSSB, scs = scsSSB, initialNSlot = nSlot, SampleRate=rxSampleRate, CyclicPrefixFraction=0.5)\n",
    "\n",
    "        # # correlate rxGrid with refGrid, as py3gpp_nrTimingEstimate not directly give correlation\n",
    "        # temp = scipy.signal.correlate(rxGrid[:int(25e-3 * fs)], refGrid, 'valid')  # correlate over 25 ms\n",
    "        \n",
    "        # peak_index[NID2] = np.argmax(np.abs(temp))\n",
    "        # peak_value[NID2] = np.abs(temp[peak_index[NID2]])\n",
    "        # t_corr = np.arange(temp.shape[0])/fs*1e3\n",
    "\n"
   ]
  }
 ],
 "metadata": {
  "kernelspec": {
   "display_name": "my_venv",
   "language": "python",
   "name": "python3"
  },
  "language_info": {
   "codemirror_mode": {
    "name": "ipython",
    "version": 3
   },
   "file_extension": ".py",
   "mimetype": "text/x-python",
   "name": "python",
   "nbconvert_exporter": "python",
   "pygments_lexer": "ipython3",
   "version": "3.12.3"
  }
 },
 "nbformat": 4,
 "nbformat_minor": 2
}
