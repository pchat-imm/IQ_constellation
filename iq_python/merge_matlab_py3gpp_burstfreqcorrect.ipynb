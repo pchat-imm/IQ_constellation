{
 "cells": [
  {
   "cell_type": "code",
   "execution_count": 1,
   "metadata": {},
   "outputs": [],
   "source": [
    "import numpy as np\n",
    "import scipy\n",
    "import matplotlib.pyplot as plt \n",
    "from py3gpp import *\n",
    "import csv"
   ]
  },
  {
   "cell_type": "code",
   "execution_count": 2,
   "metadata": {},
   "outputs": [],
   "source": [
    "## IQ Input files\n",
    "\n",
    "# input_file = '/home/chatchamon/workarea/IQ_constellation/iq_python/input/IQDataFile_SPEEDTEST_10MS.csv' # PSS NID2=1\n",
    "input_file = '/home/chatchamon/workarea/IQ_constellation/iq_python/input/IQDataFile_SPEEDTEST.csv'\n",
    "# input_file = '/home/chatchamon/workarea/IQ_constellation/iq_python/input/IQDataFile_SPOTIFY.csv'  # PSS NID2=1\n",
    "# input_file = '/home/chatchamon/workarea/IQ_constellation/iq_python/input/IQDataFile_SPOTIFY2.csv'"
   ]
  },
  {
   "cell_type": "code",
   "execution_count": 3,
   "metadata": {},
   "outputs": [
    {
     "name": "stdout",
     "output_type": "stream",
     "text": [
      "len(waveform) 230401\n"
     ]
    }
   ],
   "source": [
    "## read csv input file\n",
    "with open(input_file, 'r') as f:\n",
    "\treader = csv.reader(f)\n",
    "\n",
    "\tfor _ in range(19):\t\t\t# skip header\n",
    "\t\tnext(reader)\n",
    "\t\n",
    "\tiq_val = []\n",
    "\tfor row in reader:\n",
    "\t\ti_val = float(row[0])\n",
    "\t\tq_val = float(row[1])\n",
    "\t\tiq_val.append(complex(i_val, q_val))\t\t# I+jQ\n",
    "\t\n",
    "\twaveform = np.array(iq_val[:230401])\t\t\t# 10 ms\n",
    "\t# waveform = np.array(iq_val)\t\t\t\n",
    "\n",
    "print(\"len(waveform)\", len(waveform))"
   ]
  },
  {
   "cell_type": "code",
   "execution_count": 4,
   "metadata": {},
   "outputs": [],
   "source": [
    "delta_f = 0\t\t\t\t# frequency offset\n",
    "mu = 1\t\t\t\t\t# for SCS\n",
    "f = 1\t\t\t\t\t# signal modulation"
   ]
  },
  {
   "cell_type": "code",
   "execution_count": 5,
   "metadata": {},
   "outputs": [],
   "source": [
    "# scs = 30        # not sure\n",
    "# syncNfft = 256 # minimum FFT size to cover SS burst\n",
    "# syncSR = syncNfft * scs * 1e3     # move down, after get Nfft\n",
    "# nrbSSB = 20\n",
    "mu = 2\n",
    "\n",
    "dec_factor = 8\t\t\t# decimated factor, to downsample\n",
    "waveform = scipy.signal.decimate(waveform, dec_factor, ftype='fir') \n",
    "waveform /= max(waveform.real.max(), waveform.imag.max()) # scale max amplitude to 1\n",
    "fs = 23.04e6 // dec_factor\t\t# sampling rate 23.04 MHz, to 2.88 MSPS"
   ]
  },
  {
   "cell_type": "code",
   "execution_count": 6,
   "metadata": {},
   "outputs": [
    {
     "name": "stdout",
     "output_type": "stream",
     "text": [
      "SNR = -4.029200352636946 dB\n"
     ]
    }
   ],
   "source": [
    "waveform =  waveform * np.exp(-1j*2*np.pi*delta_f/fs*(np.arange(len(waveform))))\n",
    "np.random.seed(69) # to get reproducible noise\n",
    "noise = ((np.random.rand(waveform.shape[0]) - 0.5) + 1j*(np.random.rand(waveform.shape[0]) - 0.5))*0.8\n",
    "SNR = 10*np.log10((np.linalg.norm(waveform) / np.linalg.norm(noise)))\n",
    "waveform += noise\n",
    "print(f'SNR = {SNR} dB')\n",
    "# print(\"waveform w/ noise:\",waveform)\n",
    "# print(\"len(waveform):\", len(waveform))"
   ]
  },
  {
   "cell_type": "code",
   "execution_count": 7,
   "metadata": {},
   "outputs": [],
   "source": [
    "# MATLAB: syncOfdmInfo = nrOFDMInfo(nrbSSB, scs, SampleRate = fs, Nfft = syncNfft)\n",
    "carrier = nrCarrierConfig(NSizeGrid = 20, SubcarrierSpacing = 15 * 2**mu)\n",
    "info = nrOFDMInfo(carrier)\n",
    "Nfft = info['Nfft']     # Nfft = 512 for scs 30 kHz"
   ]
  },
  {
   "cell_type": "code",
   "execution_count": 8,
   "metadata": {},
   "outputs": [
    {
     "name": "stdout",
     "output_type": "stream",
     "text": [
      "fshifts [-45000. -30000. -15000.      0.  15000.  30000.  45000.]\n"
     ]
    },
    {
     "ename": "MemoryError",
     "evalue": "Unable to allocate 12.4 GiB for an array with shape (28801, 28801) and data type complex128",
     "output_type": "error",
     "traceback": [
      "\u001b[0;31m---------------------------------------------------------------------------\u001b[0m",
      "\u001b[0;31mMemoryError\u001b[0m                               Traceback (most recent call last)",
      "Cell \u001b[0;32mIn[8], line 17\u001b[0m\n\u001b[1;32m     15\u001b[0m fIdx \u001b[38;5;241m=\u001b[39m \u001b[38;5;241m0\u001b[39m\n\u001b[1;32m     16\u001b[0m coarseFrequencyOffset \u001b[38;5;241m=\u001b[39m fshifts[fIdx]\n\u001b[0;32m---> 17\u001b[0m rxWaveformFreqCorrected \u001b[38;5;241m=\u001b[39m \u001b[43mwaveform\u001b[49m\u001b[43m \u001b[49m\u001b[38;5;241;43m*\u001b[39;49m\u001b[43m \u001b[49m\u001b[43mnp\u001b[49m\u001b[38;5;241;43m.\u001b[39;49m\u001b[43mexp\u001b[49m\u001b[43m(\u001b[49m\u001b[38;5;241;43m-\u001b[39;49m\u001b[38;5;241;43m1\u001b[39;49m\u001b[43mj\u001b[49m\u001b[38;5;241;43m*\u001b[39;49m\u001b[38;5;241;43m2\u001b[39;49m\u001b[38;5;241;43m*\u001b[39;49m\u001b[43mnp\u001b[49m\u001b[38;5;241;43m.\u001b[39;49m\u001b[43mpi\u001b[49m\u001b[38;5;241;43m*\u001b[39;49m\u001b[43mcoarseFrequencyOffset\u001b[49m\u001b[38;5;241;43m*\u001b[39;49m\u001b[43mt\u001b[49m\u001b[43m)\u001b[49m\n\u001b[1;32m     19\u001b[0m \u001b[38;5;66;03m# waveform =  waveform * np.exp(-1j*2*np.pi*delta_f/fs*(np.arange(len(waveform))))\u001b[39;00m\n\u001b[1;32m     20\u001b[0m \n\u001b[1;32m     21\u001b[0m \u001b[38;5;66;03m# in python file, below is in loop\u001b[39;00m\n\u001b[0;32m   (...)\u001b[0m\n\u001b[1;32m     25\u001b[0m \u001b[38;5;66;03m# [refWaveform, info] = nrOFDMModulate(carrier, slotGrid, SampleRate = fs)\u001b[39;00m\n\u001b[1;32m     26\u001b[0m \u001b[38;5;66;03m# refWaveform = refWaveform[info['CyclicPrefixLengths'][0]:]; # remove CP\u001b[39;00m\n",
      "\u001b[0;31mMemoryError\u001b[0m: Unable to allocate 12.4 GiB for an array with shape (28801, 28801) and data type complex128"
     ]
    }
   ],
   "source": [
    "pssIndices = np.arange((119-63), (119+64))      # same with nrPSSIndices()\n",
    " \n",
    "## Frequency offset and PSS search\n",
    "searchBW = 30*3       # don't know why\n",
    "fshifts = np.linspace(-searchBW, searchBW, num=7) * 1e3 /2  # Half subcarrier step\n",
    "print(\"fshifts\", fshifts)\n",
    "\n",
    "peak_value = np.zeros((fshifts.size, 3))\n",
    "peak_index = np.zeros((fshifts.size, 3))\n",
    "t = (np.arange(waveform.shape[0]) / fs).reshape(-1, 1)\n",
    "\n",
    "# for fIdx in np.arange(len(fshifts)):\n",
    "\n",
    "# test w/o loop\n",
    "fIdx = 0\n",
    "coarseFrequencyOffset = fshifts[fIdx]\n",
    "rxWaveformFreqCorrected = waveform * np.exp(-1j*2*np.pi*coarseFrequencyOffset*t)\n",
    "\n",
    "# waveform =  waveform * np.exp(-1j*2*np.pi*delta_f/fs*(np.arange(len(waveform))))\n",
    "\n",
    "# in python file, below is in loop\n",
    "# slotGrid = nrResourceGrid(carrier)\n",
    "# slotGrid = slotGrid[:, 0]\n",
    "# slotGrid[pssIndices] = nrPSS(current_NID2)\n",
    "# [refWaveform, info] = nrOFDMModulate(carrier, slotGrid, SampleRate = fs)\n",
    "# refWaveform = refWaveform[info['CyclicPrefixLengths'][0]:]; # remove CP"
   ]
  }
 ],
 "metadata": {
  "kernelspec": {
   "display_name": "myproject_kernel",
   "language": "python",
   "name": "myproject_kernel"
  },
  "language_info": {
   "codemirror_mode": {
    "name": "ipython",
    "version": 3
   },
   "file_extension": ".py",
   "mimetype": "text/x-python",
   "name": "python",
   "nbconvert_exporter": "python",
   "pygments_lexer": "ipython3",
   "version": "3.12.3"
  }
 },
 "nbformat": 4,
 "nbformat_minor": 2
}
