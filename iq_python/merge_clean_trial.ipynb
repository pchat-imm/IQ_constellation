{
 "cells": [
  {
   "cell_type": "code",
   "execution_count": 1,
   "metadata": {},
   "outputs": [],
   "source": [
    "import numpy as np\n",
    "import scipy\n",
    "import csv\n",
    "import matplotlib.pyplot as plt\n",
    "from py3gpp import *"
   ]
  },
  {
   "cell_type": "code",
   "execution_count": 3,
   "metadata": {},
   "outputs": [
    {
     "name": "stdout",
     "output_type": "stream",
     "text": [
      "len(waveform) 230401\n",
      "sample waveform_csv\n"
     ]
    },
    {
     "data": {
      "text/plain": [
       "array([-0.00123117-0.00102036j,  0.00109794-0.00055222j,\n",
       "        0.00108245-0.00025547j,  0.00074913-0.00107994j,\n",
       "        0.00054957-0.00111326j])"
      ]
     },
     "execution_count": 3,
     "metadata": {},
     "output_type": "execute_result"
    }
   ],
   "source": [
    "input_file = '/home/chatchamon/workarea/IQ_constellation/iq_python/input/IQDataFile_SPEEDTEST_10MS.csv'\n",
    "# input_file = '/home/tiwat/workarea/IQ_constellation/iq_python/input/IQDataFile_SPOTIFY2.csv'\n",
    "\n",
    "with open(input_file, 'r') as f:\n",
    "    reader = csv.reader(f)\n",
    "    for _ in range(19):\n",
    "        next(reader)\n",
    "\n",
    "    iq_val = []\n",
    "    for row in reader:\n",
    "        i_val = float(row[0])\n",
    "        q_val = float(row[1])\n",
    "        iq_val.append(complex(i_val,q_val))     # I+jQ\n",
    "\n",
    "    waveform_csv = np.array(iq_val[:230401])    # 10 ms\n",
    "    # waveform_csv = np.array(iq_val)\n",
    "\n",
    "print(\"len(waveform)\", len(waveform_csv))\n",
    "print(\"sample waveform_csv\")\n",
    "waveform_csv[:5]"
   ]
  },
  {
   "cell_type": "code",
   "execution_count": 3,
   "metadata": {},
   "outputs": [
    {
     "name": "stdout",
     "output_type": "stream",
     "text": [
      "len(waveform) 28801\n",
      "waveform after decimate: [ 0.00039785-0.00057816j  0.00049174-0.00041159j -0.00012423+0.00074921j\n",
      " -0.00019332+0.00036641j -0.00030398+0.00052994j]\n",
      "waveform scale max amplitude to 1: [ 0.16179951-0.23512766j  0.19998263-0.167384j   -0.05051995+0.30468921j\n",
      " -0.07861919+0.1490128j  -0.12362406+0.21551413j]\n"
     ]
    }
   ],
   "source": [
    "# downsampling, low pass filter\n",
    "dec_factor = 8\n",
    "waveform = scipy.signal.decimate(waveform_csv, dec_factor, ftype='fir')\n",
    "print(\"len(waveform)\",len(waveform))\n",
    "print(\"waveform after decimate:\",waveform[:5])\n",
    "\n",
    "# scale up max amplitude to 1\n",
    "waveform /= max(waveform.real.max(), waveform.imag.max())\n",
    "print(\"waveform scale max amplitude to 1:\",waveform[:5])\n",
    "\n",
    "samplingRate = 23.04e6\n",
    "fs = samplingRate // dec_factor     # floor devision   "
   ]
  },
  {
   "cell_type": "code",
   "execution_count": 31,
   "metadata": {},
   "outputs": [],
   "source": [
    "t = np.arange((len(waveform)/fs)*1e3)   # 10 ms"
   ]
  },
  {
   "cell_type": "code",
   "execution_count": 26,
   "metadata": {},
   "outputs": [
    {
     "data": {
      "text/plain": [
       "array([0.16179951-0.23512766j, 0.16211793-0.23636639j,\n",
       "       0.16243185-0.23760308j, ..., 0.16081647-0.23140063j,\n",
       "       0.16114887-0.23264464j, 0.16147652-0.23388703j])"
      ]
     },
     "execution_count": 26,
     "metadata": {},
     "output_type": "execute_result"
    }
   ],
   "source": [
    "scs = 30\n",
    "syncNfft = 256\n",
    "syncSR = int(syncNfft * scs * 1e3)\n",
    "scipy.signal.resample(waveform, syncSR)"
   ]
  },
  {
   "cell_type": "code",
   "execution_count": 117,
   "metadata": {},
   "outputs": [
    {
     "name": "stdout",
     "output_type": "stream",
     "text": [
      "refGrid: [0. 0.] [0. 1.]\n"
     ]
    },
    {
     "ename": "IndexError",
     "evalue": "too many indices for array: array is 1-dimensional, but 2 were indexed",
     "output_type": "error",
     "traceback": [
      "\u001b[0;31m---------------------------------------------------------------------------\u001b[0m",
      "\u001b[0;31mIndexError\u001b[0m                                Traceback (most recent call last)",
      "Cell \u001b[0;32mIn[117], line 14\u001b[0m\n\u001b[1;32m     12\u001b[0m slotGrid \u001b[38;5;241m=\u001b[39m nrResourceGrid(carrier)\n\u001b[1;32m     13\u001b[0m slotGrid \u001b[38;5;241m=\u001b[39m slotGrid[:, \u001b[38;5;241m0\u001b[39m]\n\u001b[0;32m---> 14\u001b[0m \u001b[43mslotGrid\u001b[49m\u001b[43m[\u001b[49m\u001b[43mpssIndices\u001b[49m\u001b[43m,\u001b[49m\u001b[43m \u001b[49m\u001b[38;5;241;43m1\u001b[39;49m\u001b[43m]\u001b[49m \u001b[38;5;241m=\u001b[39m nrPSS(NID2)\n\u001b[1;32m     15\u001b[0m \u001b[38;5;28mprint\u001b[39m(slotGrid[\u001b[38;5;241m1\u001b[39m], slotGrid[\u001b[38;5;241m56\u001b[39m])\n",
      "\u001b[0;31mIndexError\u001b[0m: too many indices for array: array is 1-dimensional, but 2 were indexed"
     ]
    }
   ],
   "source": [
    "carrier = nrCarrierConfig(NSizeGrid = 20, SubcarrierSpacing = scs)\n",
    "info = nrOFDMInfo(carrier)\n",
    "Nfft = info['Nfft']\n",
    "\n",
    "pssIndices = np.arange((119-63), (119+64))\n",
    "NID2 = 2\n",
    "refGrid = np.zeros((20*12,2))\n",
    "refGrid[pssIndices,1] = nrPSS(NID2)\n",
    "print('refGrid:',refGrid[1], refGrid[100])\n",
    "nslot = 0\n",
    "\n",
    "slotGrid = nrResourceGrid(carrier)\n",
    "slotGrid = slotGrid[:, 0]\n",
    "slotGrid[pssIndices] = nrPSS(NID2)\n",
    "print(slotGrid[1], slotGrid[56])"
   ]
  },
  {
   "cell_type": "markdown",
   "metadata": {},
   "source": [
    "## Try to do code, may miss some step"
   ]
  },
  {
   "cell_type": "code",
   "execution_count": 188,
   "metadata": {},
   "outputs": [
    {
     "name": "stdout",
     "output_type": "stream",
     "text": [
      "fshifts: [-90000. -75000. -60000. -45000. -30000. -15000.      0.  15000.  30000.\n",
      "  45000.  60000.  75000.  90000.]\n",
      "coarseFrequencyOffset: -90000.0\n",
      "rxWaveformFrquencyCorrect: [-0.00123117-0.00102036j  0.00111116-0.00052511j  0.00109368-0.00020204j\n",
      " ... -0.00213862+0.00075829j -0.0020745 -0.0010074j\n",
      " -0.00108961-0.00154664j]\n"
     ]
    },
    {
     "data": {
      "text/plain": [
       "(76801,)"
      ]
     },
     "execution_count": 188,
     "metadata": {},
     "output_type": "execute_result"
    }
   ],
   "source": [
    "sampleRate = 23.04e6\n",
    "scsSSB = 30\n",
    "searchBW = 6*scsSSB\n",
    "\n",
    "# shift by half scs step\n",
    "fshifts = np.arange(-searchBW, searchBW+scsSSB, scsSSB)*1e3/2\n",
    "print('fshifts:', fshifts)\n",
    "t = np.arange(len(waveform_csv))/sampleRate\n",
    "coarseFrequencyOffset = fshifts[0]\n",
    "print('coarseFrequencyOffset:', coarseFrequencyOffset)\n",
    "\n",
    "# shift frequency by coarseFrequencyOffset\n",
    "rxWaveformFrquencyCorrect = waveform_csv*np.exp(-1j*2*np.pi*coarseFrequencyOffset*t)\n",
    "print('rxWaveformFrquencyCorrect:', rxWaveformFrquencyCorrect)\n",
    "\n",
    "# downsample\n",
    "syncNfft = 256   \n",
    "syncSR = syncNfft* scsSSB * 1e3\n",
    "rxWaveformDS = scipy.signal.resample_poly(rxWaveformFrquencyCorrect, syncSR, sampleRate)\n",
    "rxWaveformDS.shape"
   ]
  },
  {
   "cell_type": "code",
   "execution_count": 22,
   "metadata": {},
   "outputs": [
    {
     "data": {
      "text/plain": [
       "array([[ 0.,  0.],\n",
       "       [ 0.,  0.],\n",
       "       [ 0.,  1.],\n",
       "       [ 0., -1.]])"
      ]
     },
     "execution_count": 22,
     "metadata": {},
     "output_type": "execute_result"
    }
   ],
   "source": [
    "nrbSSB = 20\n",
    "refGrid = np.zeros((nrbSSB*12, 2))\n",
    "\n",
    "# create refGrid that at column 1 has PSS symbol at kPSS indices\n",
    "NID2 = 0\n",
    "kPSS = np.arange(57, 184)\n",
    "refGrid[kPSS,1] = nrPSS(NID2)\n",
    "refGrid[55:59]      # print check"
   ]
  },
  {
   "cell_type": "code",
   "execution_count": 205,
   "metadata": {},
   "outputs": [
    {
     "name": "stdout",
     "output_type": "stream",
     "text": [
      "waveform_csv.shape 230401 length T 76801\n"
     ]
    },
    {
     "data": {
      "text/plain": [
       "array([[ 0.+0.j,  0.+0.j],\n",
       "       [ 0.+0.j,  1.+0.j],\n",
       "       [ 0.+0.j, -1.+0.j]])"
      ]
     },
     "execution_count": 205,
     "metadata": {},
     "output_type": "execute_result"
    }
   ],
   "source": [
    "nSlot = 0\n",
    "# [~, corr] = nrTimingEstimate(rxWaveformDS, nrbSSB, scsSSB, nSlot, refGrid, 'SampleRate'= syncSR, 'Nfft', syncNfft)\n",
    "\n",
    "\n",
    "T = len(rxWaveformDS)\n",
    "print( 'waveform_csv.shape', waveform_csv.shape[0],'length T', T)\n",
    "\n",
    "# However, we want to OFDM modulate but couldn't so we create slotGrid that work the same, \n",
    "# where slotGrid has 14 columns same with 14 OFDM symbols, and PSS is located at symbol #2 at index kPSS\n",
    "carrier = nrCarrierConfig(NSizeGrid = nrbSSB, SubcarrierSpacing = scsSSB)\n",
    "slotGrid = nrResourceGrid(carrier)\n",
    "# slotGrid[kPSS, 2] = nrPSS(NID2)\n",
    "# slotGrid[56:58]\n",
    "\n",
    "# How about we set only 2 columns like refGrid example\n",
    "slotGrid = slotGrid[:,:2]\n",
    "slotGrid[kPSS, 1] = nrPSS(NID2)\n",
    "slotGrid[56:59]"
   ]
  },
  {
   "cell_type": "code",
   "execution_count": 206,
   "metadata": {},
   "outputs": [],
   "source": [
    "[ref, info] = nrOFDMModulate(carrier, slotGrid, scsSSB, nSlot, Nfft = syncNfft, SampleRate = syncSR)\n",
    "# print('ref', ref)\n",
    "\n",
    "ref = ref[info['CyclicPrefixLengths'][0]:]; # remove CP"
   ]
  },
  {
   "cell_type": "code",
   "execution_count": 207,
   "metadata": {},
   "outputs": [
    {
     "name": "stdout",
     "output_type": "stream",
     "text": [
      "minlength 1078\n"
     ]
    },
    {
     "data": {
      "text/plain": [
       "(76801,)"
      ]
     },
     "execution_count": 207,
     "metadata": {},
     "output_type": "execute_result"
    }
   ],
   "source": [
    "# current ref waveform is a lot shorter than the rxWaveformDS\n",
    "minlength = ref.shape[0]\n",
    "print('minlength', minlength)\n",
    "\n",
    "# pad input waveform if it is shorter than the reference waveform\n",
    "\n",
    "if T < minlength:\n",
    "    pad = np.zeros(minlength-T, dtype=rxWaveformDS.dtype)\n",
    "    waveformPad = np.concatenate((rxWaveformDS, pad))\n",
    "else:\n",
    "    waveformPad = rxWaveformDS\n",
    "    \n",
    "waveformPad.shape"
   ]
  },
  {
   "cell_type": "code",
   "execution_count": 208,
   "metadata": {},
   "outputs": [
    {
     "data": {
      "text/plain": [
       "[<matplotlib.lines.Line2D at 0x7a8411fcf620>]"
      ]
     },
     "execution_count": 208,
     "metadata": {},
     "output_type": "execute_result"
    },
    {
     "data": {
      "image/png": "[encoded data removed]",
      "text/plain": [
       "<Figure size 640x480 with 1 Axes>"
      ]
     },
     "metadata": {},
     "output_type": "display_data"
    }
   ],
   "source": [
    "# temp = scipy.signal.correlate(waveform[:int(25e-3 * fs)], refWaveform, 'valid')  # correlate over 25 ms\n",
    "refcorr = scipy.signal.correlate(rxWaveformDS, ref, 'valid')\n",
    "mag = np.argmax(np.abs(refcorr))\n",
    "t_corr = np.arange(refcorr.shape[0])\n",
    "plt.plot(t_corr, np.abs(refcorr))\n",
    "\n"
   ]
  }
 ],
 "metadata": {
  "kernelspec": {
   "display_name": "my_venv",
   "language": "python",
   "name": "python3"
  },
  "language_info": {
   "codemirror_mode": {
    "name": "ipython",
    "version": 3
   },
   "file_extension": ".py",
   "mimetype": "text/x-python",
   "name": "python",
   "nbconvert_exporter": "python",
   "pygments_lexer": "ipython3",
   "version": "3.12.3"
  }
 },
 "nbformat": 4,
 "nbformat_minor": 2
}
