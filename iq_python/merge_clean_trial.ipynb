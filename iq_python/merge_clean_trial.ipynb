{
 "cells": [
  {
   "cell_type": "code",
   "execution_count": 25,
   "metadata": {},
   "outputs": [],
   "source": [
    "import numpy as np\n",
    "import scipy\n",
    "import csv\n",
    "import matplotlib.pyplot as plt\n",
    "from py3gpp import *"
   ]
  },
  {
   "cell_type": "code",
   "execution_count": 10,
   "metadata": {},
   "outputs": [
    {
     "name": "stdout",
     "output_type": "stream",
     "text": [
      "len(waveform) 230401\n",
      "sample waveform_csv\n"
     ]
    },
    {
     "data": {
      "text/plain": [
       "array([-0.00123117-0.00102036j,  0.00109794-0.00055222j,\n",
       "        0.00108245-0.00025547j,  0.00074913-0.00107994j,\n",
       "        0.00054957-0.00111326j])"
      ]
     },
     "execution_count": 10,
     "metadata": {},
     "output_type": "execute_result"
    }
   ],
   "source": [
    "input_file = '/home/tiwat/workarea/IQ_constellation/iq_python/input/IQDataFile_SPEEDTEST_10MS.csv'\n",
    "\n",
    "with open(input_file, 'r') as f:\n",
    "    reader = csv.reader(f)\n",
    "    for _ in range(19):\n",
    "        next(reader)\n",
    "\n",
    "    iq_val = []\n",
    "    for row in reader:\n",
    "        i_val = float(row[0])\n",
    "        q_val = float(row[1])\n",
    "        iq_val.append(complex(i_val,q_val))     # I+jQ\n",
    "\n",
    "    waveform_csv = np.array(iq_val[:230401])    # 10 ms\n",
    "    # waveform_csv = np.array(iq_val)\n",
    "\n",
    "print(\"len(waveform)\", len(waveform_csv))\n",
    "print(\"sample waveform_csv\")\n",
    "waveform_csv[:5]"
   ]
  },
  {
   "cell_type": "code",
   "execution_count": 21,
   "metadata": {},
   "outputs": [
    {
     "name": "stdout",
     "output_type": "stream",
     "text": [
      "len(waveform) 28801\n",
      "waveform after decimate: [ 0.00039785-0.00057816j  0.00049174-0.00041159j -0.00012423+0.00074921j\n",
      " -0.00019332+0.00036641j -0.00030398+0.00052994j]\n",
      "waveform scale max amplitude to 1: [ 0.16179951-0.23512766j  0.19998263-0.167384j   -0.05051995+0.30468921j\n",
      " -0.07861919+0.1490128j  -0.12362406+0.21551413j]\n"
     ]
    },
    {
     "data": {
      "text/plain": [
       "2880000.0"
      ]
     },
     "execution_count": 21,
     "metadata": {},
     "output_type": "execute_result"
    }
   ],
   "source": [
    "# downsampling, low pass filter, scale up max amplitude to 1\n",
    "dec_factor = 8\n",
    "waveform = scipy.signal.decimate(waveform_csv, dec_factor, ftype='fir')\n",
    "print(\"len(waveform)\",len(waveform))\n",
    "print(\"waveform after decimate:\",waveform[:5])\n",
    "\n",
    "waveform /= max(waveform.real.max(), waveform.imag.max())\n",
    "print(\"waveform scale max amplitude to 1:\",waveform[:5])\n",
    "\n",
    "samplingRate = 23.04e6\n",
    "fs = samplingRate // dec_factor     # floor devision   "
   ]
  },
  {
   "cell_type": "code",
   "execution_count": 40,
   "metadata": {},
   "outputs": [],
   "source": [
    "t = np.arange((len(waveform)/fs)*1e3)"
   ]
  }
 ],
 "metadata": {
  "kernelspec": {
   "display_name": "my_venv",
   "language": "python",
   "name": "python3"
  },
  "language_info": {
   "codemirror_mode": {
    "name": "ipython",
    "version": 3
   },
   "file_extension": ".py",
   "mimetype": "text/x-python",
   "name": "python",
   "nbconvert_exporter": "python",
   "pygments_lexer": "ipython3",
   "version": "3.12.3"
  }
 },
 "nbformat": 4,
 "nbformat_minor": 2
}
