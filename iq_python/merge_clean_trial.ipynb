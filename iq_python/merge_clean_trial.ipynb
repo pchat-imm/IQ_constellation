{
 "cells": [
  {
   "cell_type": "code",
   "execution_count": 1,
   "metadata": {},
   "outputs": [],
   "source": [
    "import numpy as np\n",
    "import scipy\n",
    "import csv\n",
    "import matplotlib.pyplot as plt\n",
    "from py3gpp import *"
   ]
  },
  {
   "cell_type": "code",
   "execution_count": 2,
   "metadata": {},
   "outputs": [
    {
     "name": "stdout",
     "output_type": "stream",
     "text": [
      "len(waveform) 230401\n",
      "sample waveform_csv\n"
     ]
    },
    {
     "data": {
      "text/plain": [
       "array([-0.00123117-0.00102036j,  0.00109794-0.00055222j,\n",
       "        0.00108245-0.00025547j,  0.00074913-0.00107994j,\n",
       "        0.00054957-0.00111326j])"
      ]
     },
     "execution_count": 2,
     "metadata": {},
     "output_type": "execute_result"
    }
   ],
   "source": [
    "input_file = '/home/tiwat/workarea/IQ_constellation/iq_python/input/IQDataFile_SPEEDTEST_10MS.csv'\n",
    "# input_file = '/home/tiwat/workarea/IQ_constellation/iq_python/input/IQDataFile_SPOTIFY2.csv'\n",
    "\n",
    "with open(input_file, 'r') as f:\n",
    "    reader = csv.reader(f)\n",
    "    for _ in range(19):\n",
    "        next(reader)\n",
    "\n",
    "    iq_val = []\n",
    "    for row in reader:\n",
    "        i_val = float(row[0])\n",
    "        q_val = float(row[1])\n",
    "        iq_val.append(complex(i_val,q_val))     # I+jQ\n",
    "\n",
    "    waveform_csv = np.array(iq_val[:230401])    # 10 ms\n",
    "    # waveform_csv = np.array(iq_val)\n",
    "\n",
    "print(\"len(waveform)\", len(waveform_csv))\n",
    "print(\"sample waveform_csv\")\n",
    "waveform_csv[:5]"
   ]
  },
  {
   "cell_type": "code",
   "execution_count": 3,
   "metadata": {},
   "outputs": [
    {
     "name": "stdout",
     "output_type": "stream",
     "text": [
      "len(waveform) 28801\n",
      "waveform after decimate: [ 0.00039785-0.00057816j  0.00049174-0.00041159j -0.00012423+0.00074921j\n",
      " -0.00019332+0.00036641j -0.00030398+0.00052994j]\n",
      "waveform scale max amplitude to 1: [ 0.16179951-0.23512766j  0.19998263-0.167384j   -0.05051995+0.30468921j\n",
      " -0.07861919+0.1490128j  -0.12362406+0.21551413j]\n"
     ]
    }
   ],
   "source": [
    "# downsampling, low pass filter\n",
    "dec_factor = 8\n",
    "waveform = scipy.signal.decimate(waveform_csv, dec_factor, ftype='fir')\n",
    "print(\"len(waveform)\",len(waveform))\n",
    "print(\"waveform after decimate:\",waveform[:5])\n",
    "\n",
    "# scale up max amplitude to 1\n",
    "waveform /= max(waveform.real.max(), waveform.imag.max())\n",
    "print(\"waveform scale max amplitude to 1:\",waveform[:5])\n",
    "\n",
    "samplingRate = 23.04e6\n",
    "fs = samplingRate // dec_factor     # floor devision   "
   ]
  },
  {
   "cell_type": "code",
   "execution_count": 31,
   "metadata": {},
   "outputs": [],
   "source": [
    "t = np.arange((len(waveform)/fs)*1e3)   # 10 ms"
   ]
  },
  {
   "cell_type": "code",
   "execution_count": 26,
   "metadata": {},
   "outputs": [
    {
     "data": {
      "text/plain": [
       "array([0.16179951-0.23512766j, 0.16211793-0.23636639j,\n",
       "       0.16243185-0.23760308j, ..., 0.16081647-0.23140063j,\n",
       "       0.16114887-0.23264464j, 0.16147652-0.23388703j])"
      ]
     },
     "execution_count": 26,
     "metadata": {},
     "output_type": "execute_result"
    }
   ],
   "source": [
    "scs = 30\n",
    "syncNfft = 256\n",
    "syncSR = int(syncNfft * scs * 1e3)\n",
    "scipy.signal.resample(waveform, syncSR)"
   ]
  },
  {
   "cell_type": "code",
   "execution_count": 117,
   "metadata": {},
   "outputs": [
    {
     "name": "stdout",
     "output_type": "stream",
     "text": [
      "refGrid: [0. 0.] [0. 1.]\n"
     ]
    },
    {
     "ename": "IndexError",
     "evalue": "too many indices for array: array is 1-dimensional, but 2 were indexed",
     "output_type": "error",
     "traceback": [
      "\u001b[0;31m---------------------------------------------------------------------------\u001b[0m",
      "\u001b[0;31mIndexError\u001b[0m                                Traceback (most recent call last)",
      "Cell \u001b[0;32mIn[117], line 14\u001b[0m\n\u001b[1;32m     12\u001b[0m slotGrid \u001b[38;5;241m=\u001b[39m nrResourceGrid(carrier)\n\u001b[1;32m     13\u001b[0m slotGrid \u001b[38;5;241m=\u001b[39m slotGrid[:, \u001b[38;5;241m0\u001b[39m]\n\u001b[0;32m---> 14\u001b[0m \u001b[43mslotGrid\u001b[49m\u001b[43m[\u001b[49m\u001b[43mpssIndices\u001b[49m\u001b[43m,\u001b[49m\u001b[43m \u001b[49m\u001b[38;5;241;43m1\u001b[39;49m\u001b[43m]\u001b[49m \u001b[38;5;241m=\u001b[39m nrPSS(NID2)\n\u001b[1;32m     15\u001b[0m \u001b[38;5;28mprint\u001b[39m(slotGrid[\u001b[38;5;241m1\u001b[39m], slotGrid[\u001b[38;5;241m56\u001b[39m])\n",
      "\u001b[0;31mIndexError\u001b[0m: too many indices for array: array is 1-dimensional, but 2 were indexed"
     ]
    }
   ],
   "source": [
    "carrier = nrCarrierConfig(NSizeGrid = 20, SubcarrierSpacing = scs)\n",
    "info = nrOFDMInfo(carrier)\n",
    "Nfft = info['Nfft']\n",
    "\n",
    "pssIndices = np.arange((119-63), (119+64))\n",
    "NID2 = 2\n",
    "refGrid = np.zeros((20*12,2))\n",
    "refGrid[pssIndices,1] = nrPSS(NID2)\n",
    "print('refGrid:',refGrid[1], refGrid[100])\n",
    "nslot = 0\n",
    "\n",
    "slotGrid = nrResourceGrid(carrier)\n",
    "slotGrid = slotGrid[:, 0]\n",
    "slotGrid[pssIndices] = nrPSS(NID2)\n",
    "print(slotGrid[1], slotGrid[56])\n",
    "\n"
   ]
  }
 ],
 "metadata": {
  "kernelspec": {
   "display_name": "my_venv",
   "language": "python",
   "name": "python3"
  },
  "language_info": {
   "codemirror_mode": {
    "name": "ipython",
    "version": 3
   },
   "file_extension": ".py",
   "mimetype": "text/x-python",
   "name": "python",
   "nbconvert_exporter": "python",
   "pygments_lexer": "ipython3",
   "version": "3.12.3"
  }
 },
 "nbformat": 4,
 "nbformat_minor": 2
}
