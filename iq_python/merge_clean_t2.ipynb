{
 "cells": [
  {
   "cell_type": "markdown",
   "metadata": {},
   "source": [
    "### Try to downsample first, then frequency offset before correlation, result in corr ~ 0.4"
   ]
  },
  {
   "cell_type": "code",
   "execution_count": 76,
   "metadata": {},
   "outputs": [],
   "source": [
    "import numpy as np\n",
    "import scipy\n",
    "import csv\n",
    "import matplotlib.pyplot as plt\n",
    "from py3gpp import *"
   ]
  },
  {
   "cell_type": "code",
   "execution_count": 114,
   "metadata": {},
   "outputs": [
    {
     "name": "stdout",
     "output_type": "stream",
     "text": [
      "len_waveform_csv 230401 waveform_csv [-0.00123117-0.00102036j  0.00109794-0.00055222j  0.00108245-0.00025547j\n",
      " ... -0.00217325+0.00065244j -0.00204915-0.00105801j\n",
      " -0.00108961-0.00154664j]\n"
     ]
    }
   ],
   "source": [
    "input_file = '/home/chatchamon/workarea/IQ_constellation/iq_python/input/IQDataFile_SPEEDTEST_10MS.csv'\n",
    "# input_file = '/home/chatchamon/workarea/IQ_constellation/iq_python/input/IQDataFile_SPOTIFY2.csv'\n",
    "\n",
    "with open(input_file, 'r') as f:\n",
    "    reader = csv.reader(f)\n",
    "    for _ in range(19):\n",
    "        next(reader)\n",
    "\n",
    "    iq_val = []\n",
    "    for row in reader:\n",
    "        i_val = float(row[0])\n",
    "        q_val = float(row[1])\n",
    "        iq_val.append(complex(i_val,q_val))     # I+jQ\n",
    "\n",
    "    waveform_csv = np.array(iq_val[:230401])    # 10 ms\n",
    "    # waveform_csv = np.array(iq_val)\n",
    "\n",
    "print('len_waveform_csv', len(waveform_csv), 'waveform_csv', waveform_csv)"
   ]
  },
  {
   "cell_type": "code",
   "execution_count": 115,
   "metadata": {},
   "outputs": [
    {
     "name": "stdout",
     "output_type": "stream",
     "text": [
      "len_waveform 28801 waveform [ 0.16179951-0.23512766j  0.19998263-0.167384j   -0.05051995+0.30468921j\n",
      " ...  0.40895248-0.09217698j -0.41135963-0.26136865j\n",
      " -0.27107295-0.12754564j]\n"
     ]
    }
   ],
   "source": [
    "# downsampling, low pass filter\n",
    "dec_factor = 8\n",
    "waveform = scipy.signal.decimate(waveform_csv, dec_factor, ftype='fir')\n",
    "# print(\"waveform after decimate:\",waveform[:5])\n",
    "\n",
    "# scale up max amplitude to 1\n",
    "waveform /= max(waveform.real.max(), waveform.imag.max())\n",
    "# print(\"waveform scale max amplitude to 1:\",waveform[:5])\n",
    "print('len_waveform', len(waveform), 'waveform', waveform)\n",
    "\n",
    "sampleRate = 23.04e6\n",
    "sampleRateDS = sampleRate // dec_factor     # floor devision   "
   ]
  },
  {
   "cell_type": "markdown",
   "metadata": {},
   "source": [
    "### Try to do code, may miss some step"
   ]
  },
  {
   "cell_type": "code",
   "execution_count": 149,
   "metadata": {},
   "outputs": [
    {
     "name": "stdout",
     "output_type": "stream",
     "text": [
      "len_fshifts 13 fshifts: [-90000. -75000. -60000. -45000. -30000. -15000.      0.  15000.  30000.\n",
      "  45000.  60000.  75000.  90000.]\n",
      "coarseFrequencyOffset: -30000.0\n",
      "rxWaveformFrquencyCorrect: [ 0.16179951-0.23512766j  0.21050189-0.15394613j -0.08985767+0.29548838j\n",
      " ...  0.39342232-0.1447674j  -0.4275732 -0.23390483j\n",
      " -0.27107295-0.12754564j] rxWaveformFrquencyCorrect.shape (28801,)\n"
     ]
    }
   ],
   "source": [
    "scsSSB = 30\n",
    "searchBW = 6*scsSSB\n",
    "\n",
    "# shift by half scs step\n",
    "fshifts = np.arange(-searchBW, searchBW+scsSSB, scsSSB)*1e3/2\n",
    "print('len_fshifts', len(fshifts), 'fshifts:', fshifts)\n",
    "\n",
    "t = np.arange(len(waveform))/sampleRateDS\n",
    "# print('len_t', len(t),'t',t)\n",
    "\n",
    "# loop on fshifts\n",
    "coarseFrequencyOffset = fshifts[4]\n",
    "print('coarseFrequencyOffset:', coarseFrequencyOffset)\n",
    "\n",
    "# shift frequency by coarseFrequencyOffset\n",
    "rxWaveformFrquencyCorrect = waveform*np.exp(-1j*2*np.pi*coarseFrequencyOffset*t)\n",
    "print('rxWaveformFrquencyCorrect:', rxWaveformFrquencyCorrect, 'rxWaveformFrquencyCorrect.shape', rxWaveformFrquencyCorrect.shape)"
   ]
  },
  {
   "cell_type": "code",
   "execution_count": 150,
   "metadata": {},
   "outputs": [],
   "source": [
    "nSlot = 0\n",
    "T = len(rxWaveformFrquencyCorrect)\n",
    "\n",
    "carrier = nrCarrierConfig(NSizeGrid = nrbSSB, SubcarrierSpacing = scsSSB)\n",
    "info = nrOFDMInfo(carrier)\n",
    "Nfft = info['Nfft']\n",
    "slotGrid = nrResourceGrid(carrier)\n",
    "\n",
    "# loop on NID2\n",
    "NID2 = 1\n",
    "slotGrid = slotGrid[:,1]\n",
    "slotGrid[kPSS] = nrPSS(NID2)\n",
    "# print('slotGrid[56:59]',slotGrid[56:59])\n",
    "\n",
    "[refWaveform, info] = nrOFDMModulate(carrier, slotGrid, scsSSB, nSlot, Nfft, SampleRate=sampleRateDS)\n",
    "refWaveform = refWaveform[info['CyclicPrefixLengths'][0]:]; # remove CP\n",
    "# print(ref, ref.shape)"
   ]
  },
  {
   "cell_type": "code",
   "execution_count": 151,
   "metadata": {},
   "outputs": [
    {
     "data": {
      "text/plain": [
       "[<matplotlib.lines.Line2D at 0x77854e5980b0>]"
      ]
     },
     "execution_count": 151,
     "metadata": {},
     "output_type": "execute_result"
    },
    {
     "data": {
      "image/png": "[encoded data removed]",
      "text/plain": [
       "<Figure size 640x480 with 1 Axes>"
      ]
     },
     "metadata": {},
     "output_type": "display_data"
    }
   ],
   "source": [
    "temp = scipy.signal.correlate(rxWaveformFrquencyCorrect, refWaveform)\n",
    "t_corr = np.arange(temp.shape[0])/sampleRateDS*1e3\n",
    "plt.plot(t_corr, np.abs(temp))"
   ]
  }
 ],
 "metadata": {
  "kernelspec": {
   "display_name": "my_venv",
   "language": "python",
   "name": "python3"
  },
  "language_info": {
   "codemirror_mode": {
    "name": "ipython",
    "version": 3
   },
   "file_extension": ".py",
   "mimetype": "text/x-python",
   "name": "python",
   "nbconvert_exporter": "python",
   "pygments_lexer": "ipython3",
   "version": "3.12.3"
  }
 },
 "nbformat": 4,
 "nbformat_minor": 2
}
